{
 "cells": [
  {
   "cell_type": "code",
   "execution_count": null,
   "metadata": {},
   "outputs": [],
   "source": [
    "from pathlib import Path\n",
    "from freqtrade.configuration import Configuration\n",
    "\n",
    "STRATEGY = \"MyStrategy\""
   ]
  },
  {
   "cell_type": "code",
   "execution_count": null,
   "metadata": {},
   "outputs": [],
   "source": [
    "config = Configuration.from_files([\"config.json\"])\n",
    "config[\"timeframe\"] = \"1m\"\n",
    "config[\"strategy\"] = STRATEGY\n",
    "pair = config[\"pairs\"][0]\n",
    "pair"
   ]
  },
  {
   "cell_type": "code",
   "execution_count": null,
   "metadata": {},
   "outputs": [],
   "source": [
    "from freqtrade.data.history import load_pair_history\n",
    "from freqtrade.enums import CandleType\n",
    "\n",
    "data_location = Path(config[\"user_data_dir\"], \"data\", \"binance\")\n",
    "candles = load_pair_history(\n",
    "    datadir=data_location,\n",
    "    timeframe=config[\"timeframe\"],\n",
    "    pair=pair,\n",
    "    data_format=\"hdf5\",\n",
    "    candle_type=CandleType.FUTURES,\n",
    ")\n",
    "print(f\"Loaded {str(len(candles))} rows of data for {pair} from {data_location}\")\n",
    "candles.shape"
   ]
  },
  {
   "cell_type": "code",
   "execution_count": null,
   "metadata": {},
   "outputs": [],
   "source": [
    "from freqtrade.resolvers import StrategyResolver\n",
    "from freqtrade.data.dataprovider import DataProvider\n",
    "strategy = StrategyResolver.load_strategy(config)\n",
    "strategy.dp = DataProvider(config, None, None)\n",
    "\n",
    "# Generate buy/sell signals using strategy\n",
    "df = strategy.analyze_ticker(candles, {\"pair\": pair})\n",
    "df.tail()"
   ]
  },
  {
   "cell_type": "code",
   "execution_count": null,
   "metadata": {},
   "outputs": [],
   "source": []
  }
 ],
 "metadata": {
  "kernelspec": {
   "display_name": "Python 3.8.10 ('.env': venv)",
   "language": "python",
   "name": "python3"
  },
  "language_info": {
   "codemirror_mode": {
    "name": "ipython",
    "version": 3
   },
   "file_extension": ".py",
   "mimetype": "text/x-python",
   "name": "python",
   "nbconvert_exporter": "python",
   "pygments_lexer": "ipython3",
   "version": "3.8.10"
  },
  "orig_nbformat": 4,
  "vscode": {
   "interpreter": {
    "hash": "8c7b76e049f679b91cea373a906c56096ee44f557e575c5abee5c170357632d1"
   }
  }
 },
 "nbformat": 4,
 "nbformat_minor": 2
}
