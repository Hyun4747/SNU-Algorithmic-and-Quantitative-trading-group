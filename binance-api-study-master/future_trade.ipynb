{
 "cells": [
  {
   "cell_type": "code",
   "execution_count": null,
   "metadata": {},
   "outputs": [],
   "source": [
    "import binance\n",
    "import time\n",
    "from typing import Tuple\n",
    "\n",
    "# API name: test-future\n",
    "api_key = \"\"\n",
    "api_secret = \"\"\n",
    "\n",
    "client = binance.Client(api_key, api_secret)\n",
    "client.get_account_api_permissions()  # Assert 'enableFutures' is True"
   ]
  },
  {
   "cell_type": "markdown",
   "metadata": {},
   "source": [
    "# Account info"
   ]
  },
  {
   "cell_type": "code",
   "execution_count": null,
   "metadata": {},
   "outputs": [],
   "source": [
    "my_future_account = client.futures_account()\n",
    "print(\"margin balance:\", my_future_account[\"totalMarginBalance\"])"
   ]
  },
  {
   "cell_type": "code",
   "execution_count": null,
   "metadata": {},
   "outputs": [],
   "source": [
    "# Get info of assets that we have\n",
    "f_balances = client.futures_account_balance()\n",
    "f_balances = [bal for bal in f_balances if float(bal['balance']) > 0]\n",
    "f_balances"
   ]
  },
  {
   "cell_type": "code",
   "execution_count": null,
   "metadata": {},
   "outputs": [],
   "source": [
    "client.futures_account_trades(symbol=\"BTCUSDT\")  # trading history of 'BTCUSDT' for last 7days"
   ]
  },
  {
   "cell_type": "markdown",
   "metadata": {},
   "source": [
    "# Place an order"
   ]
  },
  {
   "cell_type": "code",
   "execution_count": null,
   "metadata": {},
   "outputs": [],
   "source": [
    "client.futures_get_open_orders()  # Check my open orders"
   ]
  },
  {
   "cell_type": "code",
   "execution_count": null,
   "metadata": {},
   "outputs": [],
   "source": [
    "client.futures_position_information(symbol=\"BTCUSDT\")  # Check my current position"
   ]
  },
  {
   "cell_type": "code",
   "execution_count": null,
   "metadata": {},
   "outputs": [],
   "source": [
    "client.futures_position_information(symbol=\"BTCUSDT\")"
   ]
  },
  {
   "cell_type": "code",
   "execution_count": null,
   "metadata": {},
   "outputs": [],
   "source": [
    "def round_with_precision(number: float, precision: int):\n",
    "    return round(number, precision) if precision else round(number)\n",
    "\n",
    "def round_price(price:float, p_precision: int, p_ticksize: float):\n",
    "    price = round(price / p_ticksize) * p_ticksize\n",
    "    price = round_with_precision(price, p_precision)\n",
    "    return price\n",
    "\n",
    "def get_precisions(client: binance.Client, symbol: str):\n",
    "    info = client.futures_exchange_info()\n",
    "    for si in info[\"symbols\"]:\n",
    "        if si[\"symbol\"] == symbol:\n",
    "            q_precision = int(si[\"quantityPrecision\"])\n",
    "            p_ticksize = float(si[\"filters\"][0][\"tickSize\"])\n",
    "    p_precision = len(str(p_ticksize).split('.')[1])\n",
    "    return q_precision, p_precision, p_ticksize\n",
    "\n",
    "\n",
    "def get_target_price(client: binance.Client, symbol: str, target_price_ratio: float, p_precision: int, p_ticksize: float):\n",
    "    cur_price = float(client.futures_symbol_ticker(symbol=symbol)['price'])\n",
    "    target_price = cur_price * target_price_ratio\n",
    "    target_price = round_price(target_price, p_precision, p_ticksize)\n",
    "    return cur_price, target_price\n",
    "\n",
    "def get_order_quantity(client: binance.Client, symbol: str, target_price: float, size: float, q_precision: Tuple):\n",
    "    usdt_balance = float([d for d in client.futures_account_balance() if d['asset']==\"USDT\"][0][\"balance\"])\n",
    "    leverage = int(client.futures_position_information(symbol=\"BTCUSDT\")[0][\"leverage\"])\n",
    "    quantity_in_usdt = usdt_balance * leverage * size\n",
    "    quantity = quantity_in_usdt / target_price\n",
    "    quantity = round_with_precision(quantity, q_precision)\n",
    "    return quantity\n"
   ]
  },
  {
   "cell_type": "code",
   "execution_count": null,
   "metadata": {},
   "outputs": [],
   "source": [
    "q_precision, p_precision, p_ticksize = get_precisions(client, symbol=\"BTCUSDT\")\n",
    "print(\"quantity precision:\", q_precision)\n",
    "print(\"price precision:\", p_precision)\n",
    "print(\"price ticksize:\", p_ticksize)"
   ]
  },
  {
   "cell_type": "markdown",
   "metadata": {},
   "source": [
    "## Long Position"
   ]
  },
  {
   "cell_type": "code",
   "execution_count": null,
   "metadata": {},
   "outputs": [],
   "source": [
    "# order quantity\n",
    "order_quantity = 1 / (10 ** q_precision)  # minimum quantity\n",
    "order_quantity = round_with_precision(order_quantity, q_precision)\n",
    "print(\"order quantity:\", order_quantity)\n",
    "\n",
    "# Place an limit order for long position of BTC\n",
    "cur_price, target_price = get_target_price(client, symbol=\"BTCUSDT\", target_price_ratio=0.99, p_precision=p_precision, p_ticksize=p_ticksize)\n",
    "print(\"current price:\", cur_price)\n",
    "print(\"target price:\", target_price)"
   ]
  },
  {
   "cell_type": "code",
   "execution_count": null,
   "metadata": {},
   "outputs": [],
   "source": [
    "# open order for long position\n",
    "order_info = client.futures_create_order(\n",
    "    symbol=\"BTCUSDT\",\n",
    "    side=client.SIDE_BUY,\n",
    "    type=client.FUTURE_ORDER_TYPE_LIMIT,\n",
    "    timeInForce=client.TIME_IN_FORCE_GTC,\n",
    "    price=target_price,\n",
    "    quantity=order_quantity,\n",
    ")"
   ]
  },
  {
   "cell_type": "code",
   "execution_count": null,
   "metadata": {},
   "outputs": [],
   "source": [
    "# Cancel the order\n",
    "client.futures_cancel_order(symbol=\"BTCUSDT\", orderId=order_info[\"orderId\"])\n",
    "\n",
    "# Alternatives: Cancel all open orders\n",
    "# client.futures_cancel_all_open_orders(symbol=\"BTCUSDT\")"
   ]
  },
  {
   "cell_type": "markdown",
   "metadata": {},
   "source": [
    "## Short Position"
   ]
  },
  {
   "cell_type": "code",
   "execution_count": null,
   "metadata": {},
   "outputs": [],
   "source": [
    "# Place an **market** order to short-sell BTC for USDT\n",
    "order_quantity = 1 / (10 ** q_precision)  # minimum quantity\n",
    "order_quantity = round_with_precision(order_quantity, q_precision)\n",
    "\n",
    "client.futures_create_order(\n",
    "    symbol=\"BTCUSDT\",\n",
    "    side=client.SIDE_SELL,\n",
    "    type=client.FUTURE_ORDER_TYPE_MARKET,\n",
    "    quantity=order_quantity,\n",
    ")\n",
    "client.futures_position_information(symbol=\"BTCUSDT\")  # Check my current position"
   ]
  },
  {
   "cell_type": "code",
   "execution_count": null,
   "metadata": {},
   "outputs": [],
   "source": [
    "# close sell position\n",
    "client.futures_create_order(\n",
    "    symbol=\"BTCUSDT\",\n",
    "    side=client.SIDE_BUY,\n",
    "    type=client.FUTURE_ORDER_TYPE_MARKET,\n",
    "    quantity=order_quantity,\n",
    ")\n",
    "client.futures_position_information(symbol=\"BTCUSDT\")  # Check my current position"
   ]
  },
  {
   "cell_type": "markdown",
   "metadata": {},
   "source": [
    "## Change leverage ratio"
   ]
  },
  {
   "cell_type": "code",
   "execution_count": null,
   "metadata": {},
   "outputs": [],
   "source": [
    "# Change leverage ratio\n",
    "client.futures_change_leverage(symbol=\"BTCUSDT\", leverage=5)\n",
    "\n",
    "# Place an limit order for long position for BTC\n",
    "cur_price, target_price = get_target_price(client, symbol=\"BTCUSDT\", target_price_ratio=0.9995, p_precision=p_precision, p_ticksize=p_ticksize)\n",
    "order_quantity = get_order_quantity(client, symbol=\"BTCUSDT\", target_price=target_price, size=1.0, q_precision=q_precision)\n",
    "\n",
    "print(\"current price:\", cur_price)\n",
    "print(\"target price:\", target_price)\n",
    "print(\"order_quantity:\", order_quantity)\n",
    "\n",
    "\n",
    "# open order for long position\n",
    "order_info = client.futures_create_order(\n",
    "    symbol=\"BTCUSDT\",\n",
    "    side=client.SIDE_BUY,\n",
    "    type=client.FUTURE_ORDER_TYPE_LIMIT,\n",
    "    timeInForce=client.TIME_IN_FORCE_GTC,\n",
    "    price=target_price,\n",
    "    quantity=order_quantity,\n",
    ")"
   ]
  },
  {
   "cell_type": "code",
   "execution_count": null,
   "metadata": {},
   "outputs": [],
   "source": [
    "# close position\n",
    "long_position = client.futures_position_information(symbol=\"BTCUSDT\")[0]  # Check my current position\n",
    "\n",
    "client.futures_create_order(\n",
    "    symbol=\"BTCUSDT\",\n",
    "    side=client.SIDE_SELL,\n",
    "    type=client.FUTURE_ORDER_TYPE_MARKET,\n",
    "    quantity=order_quantity,\n",
    ")"
   ]
  },
  {
   "cell_type": "markdown",
   "metadata": {},
   "source": [
    "## Use stop price option\n",
    "\n",
    "stop price ... stop price에 도달하면 order  \n",
    "closePosision=true 옵션을 주면 모든 position을 close\n",
    "\n",
    "손실 방지를 위해 많이 쓴다.\n",
    "\n",
    "e.g.)  \n",
    "Long position -> Short order with stop price  \n",
    "Short position -> Long order with stop price"
   ]
  },
  {
   "cell_type": "code",
   "execution_count": null,
   "metadata": {},
   "outputs": [],
   "source": [
    "cur_price, target_price = get_target_price(client, symbol=\"BTCUSDT\", target_price_ratio=0.9995, p_precision=p_precision, p_ticksize=p_ticksize)\n",
    "order_quantity = get_order_quantity(client, symbol=\"BTCUSDT\", target_price=target_price, size=0.5, q_precision=q_precision)\n",
    "\n",
    "order_info = client.futures_create_order(\n",
    "    symbol=\"BTCUSDT\",\n",
    "    side=client.SIDE_BUY,\n",
    "    type=client.FUTURE_ORDER_TYPE_LIMIT,\n",
    "    timeInForce=client.TIME_IN_FORCE_GTC,\n",
    "    price=target_price,\n",
    "    quantity=order_quantity,\n",
    ")"
   ]
  },
  {
   "cell_type": "code",
   "execution_count": null,
   "metadata": {},
   "outputs": [],
   "source": [
    "my_position = client.futures_position_information(symbol=\"BTCUSDT\")[0]  # Check my current position\n",
    "my_position"
   ]
  },
  {
   "cell_type": "code",
   "execution_count": null,
   "metadata": {},
   "outputs": [],
   "source": [
    "stop_price = round_price(float(my_position[\"entryPrice\"]) * 0.999, p_precision, p_ticksize)\n",
    "\n",
    "client.futures_create_order(\n",
    "    symbol=\"BTCUSDT\",\n",
    "    side=client.SIDE_SELL,\n",
    "    type=client.FUTURE_ORDER_TYPE_STOP_MARKET,\n",
    "    stopPrice=stop_price,\n",
    "    closePosition='true'\n",
    ")"
   ]
  },
  {
   "cell_type": "markdown",
   "metadata": {},
   "source": [
    "## Use Take profit option\n",
    "\n",
    "일정 수익률에 도달하면 position을 정리"
   ]
  },
  {
   "cell_type": "code",
   "execution_count": null,
   "metadata": {},
   "outputs": [],
   "source": [
    "cur_price, target_price = get_target_price(client, symbol=\"BTCUSDT\", target_price_ratio=1.005, p_precision=p_precision, p_ticksize=p_ticksize)\n",
    "order_quantity = get_order_quantity(client, symbol=\"BTCUSDT\", target_price=target_price, size=0.1, q_precision=q_precision)\n",
    "\n",
    "order_info = client.futures_create_order(\n",
    "    symbol=\"BTCUSDT\",\n",
    "    side=client.SIDE_SELL,\n",
    "    type=client.FUTURE_ORDER_TYPE_LIMIT,\n",
    "    timeInForce=client.TIME_IN_FORCE_GTC,\n",
    "    price=target_price,\n",
    "    quantity=order_quantity,\n",
    ")"
   ]
  },
  {
   "cell_type": "code",
   "execution_count": null,
   "metadata": {},
   "outputs": [],
   "source": [
    "count = 0\n",
    "while count < 10000:\n",
    "    if client.futures_get_order(symbol=\"BTCUSDT\", orderId=order_info[\"orderId\"])[\"status\"] == \"FILLED\":\n",
    "        my_position = client.futures_position_information(symbol=\"BTCUSDT\")[0]  # Check my current position\n",
    "\n",
    "        take_profit_price = round_price(float(my_position[\"entryPrice\"]) * 0.99, p_precision, p_ticksize)\n",
    "\n",
    "        client.futures_create_order(\n",
    "            symbol=\"BTCUSDT\",\n",
    "            side=client.SIDE_BUY,\n",
    "            type=client.FUTURE_ORDER_TYPE_TAKE_PROFIT_MARKET,\n",
    "            stopPrice=take_profit_price,\n",
    "            closePosition='true'\n",
    "        )\n",
    "\n",
    "        break\n",
    "    else:\n",
    "        time.sleep(1)\n",
    "        count =+ 1\n",
    "\n",
    "        if count == 10000:\n",
    "            client.futures_cancel_all_open_orders(symbol=\"BTCUSDT\")"
   ]
  }
 ],
 "metadata": {
  "interpreter": {
   "hash": "cf7f22cda03710ead9b63a01b5ed9ed85e70e90bbceaeaf0f6b735aff2d8e375"
  },
  "kernelspec": {
   "display_name": "Python 3.7.13 ('binance')",
   "language": "python",
   "name": "python3"
  },
  "language_info": {
   "codemirror_mode": {
    "name": "ipython",
    "version": 3
   },
   "file_extension": ".py",
   "mimetype": "text/x-python",
   "name": "python",
   "nbconvert_exporter": "python",
   "pygments_lexer": "ipython3",
   "version": "3.7.13"
  },
  "orig_nbformat": 4
 },
 "nbformat": 4,
 "nbformat_minor": 2
}
